{
 "cells": [
  {
   "cell_type": "markdown",
   "id": "641e05e2",
   "metadata": {},
   "source": [
    "#### Stemming\n",
    "Reduce the sentence to its stem.\n",
    "\n",
    "For example, Finally, Final, Finalized will be converted to \"fina\""
   ]
  },
  {
   "cell_type": "markdown",
   "id": "b805568f",
   "metadata": {},
   "source": [
    "#### Lemmatization\n",
    "\n",
    "For example, Finally, Final, Finalized will be converted to \"final\""
   ]
  },
  {
   "cell_type": "markdown",
   "id": "42b31f44",
   "metadata": {},
   "source": [
    "#### Bag of Words \n",
    "\n",
    "I creates vectors of the presence of words"
   ]
  },
  {
   "cell_type": "markdown",
   "id": "8d5585c9",
   "metadata": {},
   "source": [
    "## Stemming"
   ]
  },
  {
   "cell_type": "code",
   "execution_count": 5,
   "id": "e7c88d71",
   "metadata": {},
   "outputs": [
    {
     "name": "stderr",
     "output_type": "stream",
     "text": [
      "[nltk_data] Downloading package stopwords to\n",
      "[nltk_data]     /Users/felipe_q/nltk_data...\n",
      "[nltk_data]   Package stopwords is already up-to-date!\n"
     ]
    },
    {
     "data": {
      "text/plain": [
       "True"
      ]
     },
     "execution_count": 5,
     "metadata": {},
     "output_type": "execute_result"
    }
   ],
   "source": [
    "import nltk\n",
    "from nltk.stem import PorterStemmer\n",
    "from nltk.corpus import stopwords\n",
    "nltk.download('stopwords')"
   ]
  },
  {
   "cell_type": "code",
   "execution_count": 6,
   "id": "9c1135f2",
   "metadata": {},
   "outputs": [],
   "source": [
    "paragraph = \"\"\" La Sala Plena de la Corte Constitucional declaró inexequible 5 de los decretos que estaban relacionados con la Emergencia Económica, Social y Ecológica declarada el pasado 2 de julio en el departamento de La Guajira, por el gobierno del presidente Gustavo Petro. \"\"\""
   ]
  },
  {
   "cell_type": "code",
   "execution_count": 7,
   "id": "86706d79",
   "metadata": {},
   "outputs": [
    {
     "name": "stdout",
     "output_type": "stream",
     "text": [
      "Note: you may need to restart the kernel to use updated packages.\n"
     ]
    }
   ],
   "source": [
    "pip install unidecode --q"
   ]
  },
  {
   "cell_type": "code",
   "execution_count": 8,
   "id": "56a0449b",
   "metadata": {},
   "outputs": [],
   "source": [
    "import re\n",
    "from unidecode import unidecode\n",
    "\n",
    "#bad_chars  = [',','']\n",
    "def preprocessing_text(paragraph):\n",
    "    \n",
    "    para_clean = unidecode(paragraph)\n",
    "    lower_case = para_clean.lower()\n",
    "    no_numbers = re.sub(r'\\d', '', lower_case) #Remove Numbers out of the Text\n",
    "    no_special_chars = re.sub(r'[^ a-zA-Z]', '', no_numbers) #Remove Special Characters\n",
    "    #out of the text\n",
    "    \n",
    "    return no_special_chars\n",
    "    \n",
    "paragraph = preprocessing_text(paragraph)"
   ]
  },
  {
   "cell_type": "code",
   "execution_count": 6,
   "id": "16a4fe86",
   "metadata": {},
   "outputs": [],
   "source": [
    "#sentences = nltk.sent_tokenize(paragraph)\n",
    "#spanish_tokenizer = nltk.data.load('tokenizers/punkt/PY3/spanish.pickle')\n",
    "#sentences = spanish_tokenizer.tokenize()"
   ]
  },
  {
   "cell_type": "code",
   "execution_count": 7,
   "id": "96435a81",
   "metadata": {},
   "outputs": [
    {
     "name": "stderr",
     "output_type": "stream",
     "text": [
      "[nltk_data] Downloading package punkt to /Users/felipe_q/nltk_data...\n",
      "[nltk_data]   Package punkt is already up-to-date!\n"
     ]
    },
    {
     "data": {
      "text/plain": [
       "['la',\n",
       " 'sala',\n",
       " 'plena',\n",
       " 'de',\n",
       " 'la',\n",
       " 'corte',\n",
       " 'constitucional',\n",
       " 'declaro',\n",
       " 'inexequible',\n",
       " 'de',\n",
       " 'los',\n",
       " 'decretos',\n",
       " 'que',\n",
       " 'estaban',\n",
       " 'relacionados',\n",
       " 'con',\n",
       " 'la',\n",
       " 'emergencia',\n",
       " 'economica',\n",
       " 'social',\n",
       " 'y',\n",
       " 'ecologica',\n",
       " 'declarada',\n",
       " 'el',\n",
       " 'pasado',\n",
       " 'de',\n",
       " 'julio',\n",
       " 'en',\n",
       " 'el',\n",
       " 'departamento',\n",
       " 'de',\n",
       " 'la',\n",
       " 'guajira',\n",
       " 'por',\n",
       " 'el',\n",
       " 'gobierno',\n",
       " 'del',\n",
       " 'presidente',\n",
       " 'gustavo',\n",
       " 'petro']"
      ]
     },
     "execution_count": 7,
     "metadata": {},
     "output_type": "execute_result"
    }
   ],
   "source": [
    "nltk.download('punkt')\n",
    "words = nltk.word_tokenize(paragraph)\n",
    "words"
   ]
  },
  {
   "cell_type": "code",
   "execution_count": 12,
   "id": "57ff2c8a",
   "metadata": {},
   "outputs": [],
   "source": [
    "from nltk.stem import SnowballStemmer\n",
    "stemmer = SnowballStemmer('spanish')\n",
    "stop_words = stopwords.words('spanish')"
   ]
  },
  {
   "cell_type": "code",
   "execution_count": 9,
   "id": "cf23d9d0",
   "metadata": {},
   "outputs": [],
   "source": [
    "#Set method only takes the unique stopwords in the language\n",
    "words_mod = [stemmer.stem(word) for word in words if str(word) not in set(stop_words)]"
   ]
  },
  {
   "cell_type": "code",
   "execution_count": 10,
   "id": "b5cb62d8",
   "metadata": {},
   "outputs": [
    {
     "data": {
      "text/plain": [
       "['sal',\n",
       " 'plen',\n",
       " 'cort',\n",
       " 'constitucional',\n",
       " 'declar',\n",
       " 'inexequ',\n",
       " 'decret',\n",
       " 'relacion',\n",
       " 'emergent',\n",
       " 'econom',\n",
       " 'social',\n",
       " 'ecolog',\n",
       " 'declar',\n",
       " 'pas',\n",
       " 'juli',\n",
       " 'departament',\n",
       " 'guajir',\n",
       " 'gobiern',\n",
       " 'president',\n",
       " 'gustav',\n",
       " 'petr']"
      ]
     },
     "execution_count": 10,
     "metadata": {},
     "output_type": "execute_result"
    }
   ],
   "source": [
    "words_mod"
   ]
  },
  {
   "cell_type": "markdown",
   "id": "67849d73",
   "metadata": {},
   "source": [
    "## Lemmatization"
   ]
  },
  {
   "cell_type": "code",
   "execution_count": 11,
   "id": "a5f7d817",
   "metadata": {},
   "outputs": [
    {
     "name": "stdout",
     "output_type": "stream",
     "text": [
      "Note: you may need to restart the kernel to use updated packages.\n"
     ]
    }
   ],
   "source": [
    "pip install -U spacy --q"
   ]
  },
  {
   "cell_type": "code",
   "execution_count": 16,
   "id": "86f71980",
   "metadata": {},
   "outputs": [],
   "source": [
    "import spacy\n",
    "nlp = spacy.load('en_core_web_sm')"
   ]
  },
  {
   "cell_type": "code",
   "execution_count": 13,
   "id": "a7c719f5",
   "metadata": {},
   "outputs": [],
   "source": [
    "paragraph_mod = [word for word in words if word not in set(stop_words)]\n",
    "paragraph_mod = ' '.join(paragraph_mod) \n",
    "\n",
    "doc = nlp(paragraph_mod)\n",
    "words_mod_lemma = [word.lemma_ for word in doc if word not in set(stop_words)]"
   ]
  },
  {
   "cell_type": "code",
   "execution_count": 14,
   "id": "b7fdc6b0",
   "metadata": {},
   "outputs": [
    {
     "data": {
      "text/plain": [
       "['sala',\n",
       " 'plena',\n",
       " 'corte',\n",
       " 'constitucional',\n",
       " 'declaro',\n",
       " 'inexequible',\n",
       " 'decretos',\n",
       " 'relacionado',\n",
       " 'emergencia',\n",
       " 'economica',\n",
       " 'social',\n",
       " 'ecologica',\n",
       " 'declarada',\n",
       " 'pasado',\n",
       " 'julio',\n",
       " 'departamento',\n",
       " 'guajira',\n",
       " 'gobierno',\n",
       " 'presidente',\n",
       " 'gustavo',\n",
       " 'petro']"
      ]
     },
     "execution_count": 14,
     "metadata": {},
     "output_type": "execute_result"
    }
   ],
   "source": [
    "words_mod_lemma"
   ]
  },
  {
   "cell_type": "markdown",
   "id": "cec615a3",
   "metadata": {},
   "source": [
    "Lemmatization is not as good as expected. Read about stanford NLP.. In this stackoverflow website they say it has really good results:\n",
    "\n",
    "https://stackoverflow.com/questions/60534999/how-to-solve-spanish-lemmatization-problems-with-spacy "
   ]
  },
  {
   "cell_type": "markdown",
   "id": "77b2e81d",
   "metadata": {},
   "source": [
    "### Bag of Words - Creating the vectors of the words that are in the text"
   ]
  },
  {
   "cell_type": "code",
   "execution_count": 15,
   "id": "41d82cf7",
   "metadata": {},
   "outputs": [],
   "source": [
    "paragraph_mod = ' '.join(words_mod_lemma)"
   ]
  },
  {
   "cell_type": "code",
   "execution_count": 16,
   "id": "115db5d1",
   "metadata": {},
   "outputs": [],
   "source": [
    "list_paragraph = []\n",
    "list_paragraph.append(paragraph_mod)"
   ]
  },
  {
   "cell_type": "code",
   "execution_count": 17,
   "id": "9e87f14a",
   "metadata": {},
   "outputs": [],
   "source": [
    "from sklearn.feature_extraction.text import CountVectorizer\n",
    "cv = CountVectorizer()\n",
    "X = cv.fit_transform(list_paragraph).toarray()"
   ]
  },
  {
   "cell_type": "markdown",
   "id": "009017d8",
   "metadata": {},
   "source": [
    "#### Take into account that this must be a lot of sentences to train an ML Model"
   ]
  },
  {
   "cell_type": "code",
   "execution_count": 18,
   "id": "3c5af2f6",
   "metadata": {},
   "outputs": [
    {
     "data": {
      "text/plain": [
       "array([[1, 1, 1, 1, 1, 1, 1, 1, 1, 1, 1, 1, 1, 1, 1, 1, 1, 1, 1, 1, 1]])"
      ]
     },
     "execution_count": 18,
     "metadata": {},
     "output_type": "execute_result"
    }
   ],
   "source": [
    "X"
   ]
  },
  {
   "cell_type": "markdown",
   "id": "f1334641",
   "metadata": {},
   "source": [
    "## TF-IDF (Term Frequency - Inverse Document Frequency)"
   ]
  },
  {
   "cell_type": "code",
   "execution_count": 2,
   "id": "042c96f6",
   "metadata": {},
   "outputs": [],
   "source": [
    "para_1 = \"\"\" La Sala Plena de la Corte Constitucional declaró inexequible 5 de los decretos que estaban relacionados con la Emergencia Económica, Social y Ecológica declarada el pasado 2 de julio en el departamento de La Guajira, por el gobierno del presidente Gustavo Petro. \"\"\"\n",
    "para_2 = \"\"\" Ningún partido, político o movimiento se puede considerar gran vencedor o gran perdedor de las elecciones que eligieron 1.102 alcaldías y 32 gobernaciones: hubo, en realidad, un poco de todo y las variables de cada elección respondieron a dinámicas locales más que nacionales.\"\"\"\n",
    "para_3 = \"\"\" El pasado martes 24 de octubre, decenas de miles de mujeres en Islandia - incluida la primera ministra Katrín Jakobsdóttir-, se negaron a trabajar. Fue una huelga masiva que hizo eco de la que ocurrió en 1975, cuando el 90% de las mujeres de ese país paralizaron bancos, fábricas, escuelas y tiendas para manifestarse por la igualdad de género. \"\"\""
   ]
  },
  {
   "cell_type": "code",
   "execution_count": 9,
   "id": "1803112a",
   "metadata": {},
   "outputs": [],
   "source": [
    "para_1 = preprocessing_text(para_1)\n",
    "para_2 = preprocessing_text(para_2)\n",
    "para_3 = preprocessing_text(para_3)"
   ]
  },
  {
   "cell_type": "code",
   "execution_count": 10,
   "id": "547c10f8",
   "metadata": {},
   "outputs": [],
   "source": [
    "para_1 = nltk.word_tokenize(para_1)\n",
    "para_2 = nltk.word_tokenize(para_2)\n",
    "para_3 = nltk.word_tokenize(para_3)"
   ]
  },
  {
   "cell_type": "markdown",
   "id": "ab7280bb",
   "metadata": {},
   "source": [
    "Removing Stopwords out of the text"
   ]
  },
  {
   "cell_type": "code",
   "execution_count": 13,
   "id": "8b1268d1",
   "metadata": {},
   "outputs": [],
   "source": [
    "para_1 = [word for word in para_1 if word not in stop_words]\n",
    "para_2 = [word for word in para_2 if word not in stop_words]\n",
    "para_3 = [word for word in para_3 if word not in stop_words]"
   ]
  },
  {
   "cell_type": "code",
   "execution_count": 14,
   "id": "f65dc009",
   "metadata": {},
   "outputs": [],
   "source": [
    "para_1 = ' '.join(para_1)\n",
    "para_2 = ' '.join(para_2)\n",
    "para_3 = ' '.join(para_3)"
   ]
  },
  {
   "cell_type": "markdown",
   "id": "b1cef116",
   "metadata": {},
   "source": [
    "Lemmatizate the words "
   ]
  },
  {
   "cell_type": "code",
   "execution_count": 17,
   "id": "90bc457e",
   "metadata": {},
   "outputs": [],
   "source": [
    "doc_1 = nlp(para_1)\n",
    "doc_2 = nlp(para_2)\n",
    "doc_3 = nlp(para_3)"
   ]
  },
  {
   "cell_type": "code",
   "execution_count": 18,
   "id": "f0f2e0c8",
   "metadata": {},
   "outputs": [],
   "source": [
    "para_1 = [word.lemma_ for word in doc_1]\n",
    "para_2 = [word.lemma_ for word in doc_2]\n",
    "para_3 = [word.lemma_ for word in doc_3]"
   ]
  },
  {
   "cell_type": "code",
   "execution_count": 23,
   "id": "6c490844",
   "metadata": {},
   "outputs": [],
   "source": [
    "para_1 = ' '.join(para_1)\n",
    "para_2 = ' '.join(para_2)\n",
    "para_3 = ' '.join(para_3)"
   ]
  },
  {
   "cell_type": "markdown",
   "id": "e0086ae8",
   "metadata": {},
   "source": [
    "#### TFIDF Process"
   ]
  },
  {
   "cell_type": "code",
   "execution_count": 24,
   "id": "6fa676e0",
   "metadata": {},
   "outputs": [],
   "source": [
    "corpus = []\n",
    "corpus.append(para_1)\n",
    "corpus.append(para_2)\n",
    "corpus.append(para_3)"
   ]
  },
  {
   "cell_type": "code",
   "execution_count": 25,
   "id": "f731fe07",
   "metadata": {},
   "outputs": [
    {
     "data": {
      "text/plain": [
       "['sala plena corte constitucional declaro inexequible decretos relacionado emergencia economica social ecologica declarada pasado julio departamento guajira gobierno presidente gustavo petro',\n",
       " 'ningun partido politico movimiento puede considerar gran vencedor gran perdedor eleccione eligieron alcaldias gobernaciones realidad variables cada eleccion respondieron dinamicas locale mas nacionale',\n",
       " 'pasado marte octubre decenas miles mujere islandia incluida primera ministra katrin jakobsdottir negaron trabajar huelga masiva hizo eco ocurrio mujeres pais paralizaron bancos fabricas escuelas tiendas manifestarse igualdad genero']"
      ]
     },
     "execution_count": 25,
     "metadata": {},
     "output_type": "execute_result"
    }
   ],
   "source": [
    "corpus"
   ]
  },
  {
   "cell_type": "code",
   "execution_count": 28,
   "id": "4294db5d",
   "metadata": {},
   "outputs": [],
   "source": [
    "from sklearn.feature_extraction.text import TfidfVectorizer\n",
    "cv = TfidfVectorizer()\n",
    "X = cv.fit_transform(corpus)"
   ]
  },
  {
   "cell_type": "code",
   "execution_count": 30,
   "id": "ccaa4e7c",
   "metadata": {},
   "outputs": [
    {
     "name": "stdout",
     "output_type": "stream",
     "text": [
      "  (0, 56)\t0.2204419293447693\n",
      "  (0, 26)\t0.2204419293447693\n",
      "  (0, 59)\t0.2204419293447693\n",
      "  (0, 23)\t0.2204419293447693\n",
      "  (0, 25)\t0.2204419293447693\n",
      "  (0, 10)\t0.2204419293447693\n",
      "  (0, 34)\t0.2204419293447693\n",
      "  (0, 54)\t0.167651769257334\n",
      "  (0, 7)\t0.2204419293447693\n",
      "  (0, 13)\t0.2204419293447693\n",
      "  (0, 66)\t0.2204419293447693\n",
      "  (0, 14)\t0.2204419293447693\n",
      "  (0, 18)\t0.2204419293447693\n",
      "  (0, 63)\t0.2204419293447693\n",
      "  (0, 9)\t0.2204419293447693\n",
      "  (0, 31)\t0.2204419293447693\n",
      "  (0, 8)\t0.2204419293447693\n",
      "  (0, 4)\t0.2204419293447693\n",
      "  (0, 5)\t0.2204419293447693\n",
      "  (0, 57)\t0.2204419293447693\n",
      "  (0, 65)\t0.2204419293447693\n",
      "  (1, 46)\t0.2\n",
      "  (1, 39)\t0.2\n",
      "  (1, 36)\t0.2\n",
      "  (1, 11)\t0.2\n",
      "  :\t:\n",
      "  (2, 19)\t0.18706005118782956\n",
      "  (2, 20)\t0.18706005118782956\n",
      "  (2, 1)\t0.18706005118782956\n",
      "  (2, 52)\t0.18706005118782956\n",
      "  (2, 51)\t0.18706005118782956\n",
      "  (2, 45)\t0.18706005118782956\n",
      "  (2, 50)\t0.18706005118782956\n",
      "  (2, 12)\t0.18706005118782956\n",
      "  (2, 27)\t0.18706005118782956\n",
      "  (2, 40)\t0.18706005118782956\n",
      "  (2, 28)\t0.18706005118782956\n",
      "  (2, 68)\t0.18706005118782956\n",
      "  (2, 47)\t0.18706005118782956\n",
      "  (2, 33)\t0.18706005118782956\n",
      "  (2, 35)\t0.18706005118782956\n",
      "  (2, 42)\t0.18706005118782956\n",
      "  (2, 60)\t0.18706005118782956\n",
      "  (2, 30)\t0.18706005118782956\n",
      "  (2, 32)\t0.18706005118782956\n",
      "  (2, 44)\t0.18706005118782956\n",
      "  (2, 41)\t0.18706005118782956\n",
      "  (2, 6)\t0.18706005118782956\n",
      "  (2, 49)\t0.18706005118782956\n",
      "  (2, 38)\t0.18706005118782956\n",
      "  (2, 54)\t0.14226399048594257\n"
     ]
    }
   ],
   "source": [
    "print(X)"
   ]
  }
 ],
 "metadata": {
  "kernelspec": {
   "display_name": "Python 3 (ipykernel)",
   "language": "python",
   "name": "python3"
  },
  "language_info": {
   "codemirror_mode": {
    "name": "ipython",
    "version": 3
   },
   "file_extension": ".py",
   "mimetype": "text/x-python",
   "name": "python",
   "nbconvert_exporter": "python",
   "pygments_lexer": "ipython3",
   "version": "3.11.5"
  }
 },
 "nbformat": 4,
 "nbformat_minor": 5
}
