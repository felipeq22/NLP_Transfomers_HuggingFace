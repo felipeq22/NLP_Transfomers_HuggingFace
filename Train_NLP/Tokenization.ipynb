{
 "cells": [
  {
   "cell_type": "markdown",
   "id": "90479736",
   "metadata": {},
   "source": [
    "# Tokenization Technique for NLP"
   ]
  },
  {
   "cell_type": "code",
   "execution_count": 5,
   "id": "0fa8cbf3",
   "metadata": {},
   "outputs": [
    {
     "name": "stdout",
     "output_type": "stream",
     "text": [
      "Note: you may need to restart the kernel to use updated packages.\n"
     ]
    }
   ],
   "source": [
    "pip install nltk --q"
   ]
  },
  {
   "cell_type": "code",
   "execution_count": 6,
   "id": "a2f1151b",
   "metadata": {},
   "outputs": [],
   "source": [
    "import nltk"
   ]
  },
  {
   "cell_type": "code",
   "execution_count": 11,
   "id": "238dfdc5",
   "metadata": {},
   "outputs": [
    {
     "name": "stderr",
     "output_type": "stream",
     "text": [
      "[nltk_data] Downloading package punkt to /Users/felipe_q/nltk_data...\n",
      "[nltk_data]   Unzipping tokenizers/punkt.zip.\n"
     ]
    },
    {
     "data": {
      "text/plain": [
       "True"
      ]
     },
     "execution_count": 11,
     "metadata": {},
     "output_type": "execute_result"
    }
   ],
   "source": [
    "nltk.download('punkt')"
   ]
  },
  {
   "cell_type": "code",
   "execution_count": 24,
   "id": "b916451c",
   "metadata": {},
   "outputs": [],
   "source": [
    "paragraph = \"\"\" La Sala Plena de la Corte Constitucional declaró inexequible 5 de los decretos que estaban relacionados con la Emergencia Económica, Social y Ecológica declarada el pasado 2 de julio en el departamento de La Guajira, por el gobierno del presidente Gustavo Petro. \"\"\""
   ]
  },
  {
   "cell_type": "markdown",
   "id": "8a54f5fd",
   "metadata": {},
   "source": [
    "We use the function sent_tokenize to tabularize the texts\n",
    "##### This would show how many sentences do we have in the corpus"
   ]
  },
  {
   "cell_type": "code",
   "execution_count": 28,
   "id": "6d53698f",
   "metadata": {},
   "outputs": [],
   "source": [
    "sentences = nltk.sent_tokenize(paragraph)"
   ]
  },
  {
   "cell_type": "code",
   "execution_count": 29,
   "id": "a93395d1",
   "metadata": {},
   "outputs": [
    {
     "data": {
      "text/plain": [
       "[' La Sala Plena de la Corte Constitucional declaró inexequible 5 de los decretos que estaban relacionados con la Emergencia Económica, Social y Ecológica declarada el pasado 2 de julio en el departamento de La Guajira, por el gobierno del presidente Gustavo Petro.']"
      ]
     },
     "execution_count": 29,
     "metadata": {},
     "output_type": "execute_result"
    }
   ],
   "source": [
    "sentences"
   ]
  },
  {
   "cell_type": "code",
   "execution_count": 30,
   "id": "b7a75442",
   "metadata": {},
   "outputs": [
    {
     "data": {
      "text/plain": [
       "['La',\n",
       " 'Sala',\n",
       " 'Plena',\n",
       " 'de',\n",
       " 'la',\n",
       " 'Corte',\n",
       " 'Constitucional',\n",
       " 'declaró',\n",
       " 'inexequible',\n",
       " '5',\n",
       " 'de',\n",
       " 'los',\n",
       " 'decretos',\n",
       " 'que',\n",
       " 'estaban',\n",
       " 'relacionados',\n",
       " 'con',\n",
       " 'la',\n",
       " 'Emergencia',\n",
       " 'Económica',\n",
       " ',',\n",
       " 'Social',\n",
       " 'y',\n",
       " 'Ecológica',\n",
       " 'declarada',\n",
       " 'el',\n",
       " 'pasado',\n",
       " '2',\n",
       " 'de',\n",
       " 'julio',\n",
       " 'en',\n",
       " 'el',\n",
       " 'departamento',\n",
       " 'de',\n",
       " 'La',\n",
       " 'Guajira',\n",
       " ',',\n",
       " 'por',\n",
       " 'el',\n",
       " 'gobierno',\n",
       " 'del',\n",
       " 'presidente',\n",
       " 'Gustavo',\n",
       " 'Petro',\n",
       " '.']"
      ]
     },
     "execution_count": 30,
     "metadata": {},
     "output_type": "execute_result"
    }
   ],
   "source": [
    "words = nltk.word_tokenize(paragraph)\n",
    "words"
   ]
  }
 ],
 "metadata": {
  "kernelspec": {
   "display_name": "Python 3 (ipykernel)",
   "language": "python",
   "name": "python3"
  },
  "language_info": {
   "codemirror_mode": {
    "name": "ipython",
    "version": 3
   },
   "file_extension": ".py",
   "mimetype": "text/x-python",
   "name": "python",
   "nbconvert_exporter": "python",
   "pygments_lexer": "ipython3",
   "version": "3.11.5"
  }
 },
 "nbformat": 4,
 "nbformat_minor": 5
}
