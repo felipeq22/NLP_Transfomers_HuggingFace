{
 "cells": [
  {
   "cell_type": "markdown",
   "id": "dce8f5e9",
   "metadata": {},
   "source": [
    "### Model Word2Vec"
   ]
  },
  {
   "cell_type": "markdown",
   "id": "63d97c71",
   "metadata": {},
   "source": [
    "This model allows to find similarities between words taking into account their semantic meaning and adjust values to their semantic meaning"
   ]
  },
  {
   "cell_type": "code",
   "execution_count": 2,
   "id": "41946d96",
   "metadata": {},
   "outputs": [
    {
     "name": "stdout",
     "output_type": "stream",
     "text": [
      "Collecting gensim\n",
      "  Downloading gensim-4.3.2-cp38-cp38-macosx_10_9_x86_64.whl (24.1 MB)\n",
      "\u001b[2K     \u001b[90m━━━━━━━━━━━━━━━━━━━━━━━━━━━━━━━━━━━━━━━━\u001b[0m \u001b[32m24.1/24.1 MB\u001b[0m \u001b[31m4.4 MB/s\u001b[0m eta \u001b[36m0:00:00\u001b[0m00:01\u001b[0m00:01\u001b[0m\n",
      "\u001b[?25hRequirement already satisfied: numpy>=1.18.5 in /opt/anaconda3/lib/python3.8/site-packages (from gensim) (1.22.1)\n",
      "Collecting scipy>=1.7.0\n",
      "  Downloading scipy-1.10.1-cp38-cp38-macosx_10_9_x86_64.whl (35.0 MB)\n",
      "\u001b[2K     \u001b[90m━━━━━━━━━━━━━━━━━━━━━━━━━━━━━━━━━━━━━━━━\u001b[0m \u001b[32m35.0/35.0 MB\u001b[0m \u001b[31m3.2 MB/s\u001b[0m eta \u001b[36m0:00:00\u001b[0m00:01\u001b[0m00:01\u001b[0m\n",
      "\u001b[?25hRequirement already satisfied: smart-open>=1.8.1 in /opt/anaconda3/lib/python3.8/site-packages (from gensim) (6.4.0)\n",
      "Installing collected packages: scipy, gensim\n",
      "  Attempting uninstall: scipy\n",
      "    Found existing installation: scipy 1.6.2\n",
      "    Uninstalling scipy-1.6.2:\n",
      "      Successfully uninstalled scipy-1.6.2\n",
      "Successfully installed gensim-4.3.2 scipy-1.10.1\n",
      "Note: you may need to restart the kernel to use updated packages.\n"
     ]
    }
   ],
   "source": [
    "pip install gensim"
   ]
  },
  {
   "cell_type": "code",
   "execution_count": 3,
   "id": "7820bb81",
   "metadata": {},
   "outputs": [],
   "source": [
    "import nltk\n",
    "from gensim.models import Word2Vec"
   ]
  },
  {
   "cell_type": "code",
   "execution_count": 4,
   "id": "a141e09f",
   "metadata": {},
   "outputs": [],
   "source": [
    "from unidecode import unidecode"
   ]
  },
  {
   "cell_type": "code",
   "execution_count": 43,
   "id": "3e6ea4b7",
   "metadata": {},
   "outputs": [],
   "source": [
    "paragraph = '''Es jueves y son las 9:00 de la mañana. En la estación de metro no hay trabajadores que corran para llegar puntuales a sus oficinas. Tampoco estudiantes, niños o ancianos.\n",
    "Es una amplia plataforma abierta, con paredes decoradas por esculturas de formas abstractas de diversos colores. Está limpia, se ve moderna. Y cada 12 minutos recibe dos vagones plateados dentro de los cuales se pueden ver unos pocos pasajeros.\n",
    "Entre los bancos de cemento de Jardines, como se llama la parada del Tren Urbano en la que estamos, ubicada en Bayamón, una ciudad de la zona norte metropolitana de Puerto Rico, solo se pasea un guardia de seguridad.\n",
    "El hombre vigila un recinto vacío.'''\n",
    "\n",
    "paragraph_2 = '''En México la muerte es motivo de celebración: coloridos altares, panteones iluminados, calles tapizadas de anaranjado con la flor de cempasúchil, comida, bebida, música, calaveras y catrinas, todo esto para honrar la memoria de los que ya no están.'''"
   ]
  },
  {
   "cell_type": "code",
   "execution_count": 44,
   "id": "0041193f",
   "metadata": {},
   "outputs": [],
   "source": [
    "import re\n",
    "\n",
    "def preprocessing_text(paragraph):\n",
    "    \n",
    "    para_clean = unidecode(paragraph)\n",
    "    lower_case = para_clean.lower()\n",
    "    no_numbers = re.sub(r'\\d', '', lower_case) #Remove Numbers out of the Text\n",
    "    no_special_chars = re.sub(r'[^ a-zA-Z]', '', no_numbers) #Remove Special Characters\n",
    "    #out of the text\n",
    "    \n",
    "    return no_special_chars\n",
    "    \n",
    "paragraph = preprocessing_text(paragraph)\n",
    "paragraph_2 = preprocessing_text(paragraph_2)"
   ]
  },
  {
   "cell_type": "code",
   "execution_count": 7,
   "id": "90a5bee3",
   "metadata": {},
   "outputs": [
    {
     "data": {
      "text/plain": [
       "'es jueves y son las  de la manana en la estacion de metro no hay trabajadores que corran para llegar puntuales a sus oficinas tampoco estudiantes ninos o ancianoses una amplia plataforma abierta con paredes decoradas por esculturas de formas abstractas de diversos colores esta limpia se ve moderna y cada  minutos recibe dos vagones plateados dentro de los cuales se pueden ver unos pocos pasajerosentre los bancos de cemento de jardines como se llama la parada del tren urbano en la que estamos ubicada en bayamon una ciudad de la zona norte metropolitana de puerto rico solo se pasea un guardia de seguridadel hombre vigila un recinto vacio'"
      ]
     },
     "execution_count": 7,
     "metadata": {},
     "output_type": "execute_result"
    }
   ],
   "source": [
    "paragraph"
   ]
  },
  {
   "cell_type": "code",
   "execution_count": 45,
   "id": "7fdf865c",
   "metadata": {},
   "outputs": [
    {
     "data": {
      "text/plain": [
       "['es',\n",
       " 'jueves',\n",
       " 'y',\n",
       " 'son',\n",
       " 'las',\n",
       " 'de',\n",
       " 'la',\n",
       " 'manana',\n",
       " 'en',\n",
       " 'la',\n",
       " 'estacion',\n",
       " 'de',\n",
       " 'metro',\n",
       " 'no',\n",
       " 'hay',\n",
       " 'trabajadores',\n",
       " 'que',\n",
       " 'corran',\n",
       " 'para',\n",
       " 'llegar',\n",
       " 'puntuales',\n",
       " 'a',\n",
       " 'sus',\n",
       " 'oficinas',\n",
       " 'tampoco',\n",
       " 'estudiantes',\n",
       " 'ninos',\n",
       " 'o',\n",
       " 'ancianoses',\n",
       " 'una',\n",
       " 'amplia',\n",
       " 'plataforma',\n",
       " 'abierta',\n",
       " 'con',\n",
       " 'paredes',\n",
       " 'decoradas',\n",
       " 'por',\n",
       " 'esculturas',\n",
       " 'de',\n",
       " 'formas',\n",
       " 'abstractas',\n",
       " 'de',\n",
       " 'diversos',\n",
       " 'colores',\n",
       " 'esta',\n",
       " 'limpia',\n",
       " 'se',\n",
       " 've',\n",
       " 'moderna',\n",
       " 'y',\n",
       " 'cada',\n",
       " 'minutos',\n",
       " 'recibe',\n",
       " 'dos',\n",
       " 'vagones',\n",
       " 'plateados',\n",
       " 'dentro',\n",
       " 'de',\n",
       " 'los',\n",
       " 'cuales',\n",
       " 'se',\n",
       " 'pueden',\n",
       " 'ver',\n",
       " 'unos',\n",
       " 'pocos',\n",
       " 'pasajerosentre',\n",
       " 'los',\n",
       " 'bancos',\n",
       " 'de',\n",
       " 'cemento',\n",
       " 'de',\n",
       " 'jardines',\n",
       " 'como',\n",
       " 'se',\n",
       " 'llama',\n",
       " 'la',\n",
       " 'parada',\n",
       " 'del',\n",
       " 'tren',\n",
       " 'urbano',\n",
       " 'en',\n",
       " 'la',\n",
       " 'que',\n",
       " 'estamos',\n",
       " 'ubicada',\n",
       " 'en',\n",
       " 'bayamon',\n",
       " 'una',\n",
       " 'ciudad',\n",
       " 'de',\n",
       " 'la',\n",
       " 'zona',\n",
       " 'norte',\n",
       " 'metropolitana',\n",
       " 'de',\n",
       " 'puerto',\n",
       " 'rico',\n",
       " 'solo',\n",
       " 'se',\n",
       " 'pasea',\n",
       " 'un',\n",
       " 'guardia',\n",
       " 'de',\n",
       " 'seguridadel',\n",
       " 'hombre',\n",
       " 'vigila',\n",
       " 'un',\n",
       " 'recinto',\n",
       " 'vacio']"
      ]
     },
     "execution_count": 45,
     "metadata": {},
     "output_type": "execute_result"
    }
   ],
   "source": [
    "words_tokenized = nltk.word_tokenize(paragraph)\n",
    "words_tokenized_2= nltk.word_tokenize(paragraph_2)\n",
    "words_tokenized"
   ]
  },
  {
   "cell_type": "code",
   "execution_count": 9,
   "id": "5597f40a",
   "metadata": {},
   "outputs": [],
   "source": [
    "from nltk.corpus import stopwords\n",
    "stop_words = stopwords.words('spanish')"
   ]
  },
  {
   "cell_type": "code",
   "execution_count": 46,
   "id": "90d95f86",
   "metadata": {},
   "outputs": [],
   "source": [
    "words = [word for word in words_tokenized if word not in stop_words]\n",
    "words_2 = [word for word in words_tokenized_2 if word not in stop_words]"
   ]
  },
  {
   "cell_type": "code",
   "execution_count": 47,
   "id": "9dd7a5ac",
   "metadata": {},
   "outputs": [],
   "source": [
    "paragraph_edited = ' '.join(words)\n",
    "paragraph_edited_2 = ' '.join(words_2)"
   ]
  },
  {
   "cell_type": "code",
   "execution_count": 12,
   "id": "c30c3397",
   "metadata": {},
   "outputs": [
    {
     "data": {
      "text/plain": [
       "'jueves manana estacion metro trabajadores corran llegar puntuales oficinas tampoco estudiantes ninos ancianoses amplia plataforma abierta paredes decoradas esculturas formas abstractas diversos colores limpia ve moderna cada minutos recibe dos vagones plateados dentro cuales pueden ver pocos pasajerosentre bancos cemento jardines llama parada tren urbano ubicada bayamon ciudad zona norte metropolitana puerto rico solo pasea guardia seguridadel hombre vigila recinto vacio'"
      ]
     },
     "execution_count": 12,
     "metadata": {},
     "output_type": "execute_result"
    }
   ],
   "source": [
    "paragraph_edited"
   ]
  },
  {
   "cell_type": "code",
   "execution_count": 48,
   "id": "923b0da9",
   "metadata": {},
   "outputs": [],
   "source": [
    "sentences = []\n",
    "sentences.append(paragraph_edited)\n",
    "sentences.append(paragraph_edited_2)"
   ]
  },
  {
   "cell_type": "code",
   "execution_count": 68,
   "id": "4b5d45fd",
   "metadata": {},
   "outputs": [],
   "source": [
    "sentences_2 = []\n",
    "sentences_2.append(words)\n",
    "sentences_2.append(words_2)"
   ]
  },
  {
   "cell_type": "code",
   "execution_count": 102,
   "id": "f06c47b6",
   "metadata": {},
   "outputs": [],
   "source": [
    "model = Word2Vec(sentences_2, min_count = 1)"
   ]
  },
  {
   "cell_type": "code",
   "execution_count": 105,
   "id": "146bfae6",
   "metadata": {},
   "outputs": [],
   "source": [
    "words = model.wv.key_to_index "
   ]
  },
  {
   "cell_type": "code",
   "execution_count": 106,
   "id": "b113e31f",
   "metadata": {},
   "outputs": [
    {
     "data": {
      "text/plain": [
       "{'estan': 0,\n",
       " 'abstractas': 1,\n",
       " 'colores': 2,\n",
       " 'limpia': 3,\n",
       " 've': 4,\n",
       " 'moderna': 5,\n",
       " 'cada': 6,\n",
       " 'minutos': 7,\n",
       " 'recibe': 8,\n",
       " 'dos': 9,\n",
       " 'vagones': 10,\n",
       " 'plateados': 11,\n",
       " 'dentro': 12,\n",
       " 'cuales': 13,\n",
       " 'pueden': 14,\n",
       " 'ver': 15,\n",
       " 'pocos': 16,\n",
       " 'pasajerosentre': 17,\n",
       " 'bancos': 18,\n",
       " 'diversos': 19,\n",
       " 'formas': 20,\n",
       " 'memoria': 21,\n",
       " 'esculturas': 22,\n",
       " 'manana': 23,\n",
       " 'estacion': 24,\n",
       " 'metro': 25,\n",
       " 'trabajadores': 26,\n",
       " 'corran': 27,\n",
       " 'llegar': 28,\n",
       " 'puntuales': 29,\n",
       " 'oficinas': 30,\n",
       " 'tampoco': 31,\n",
       " 'estudiantes': 32,\n",
       " 'ninos': 33,\n",
       " 'ancianoses': 34,\n",
       " 'amplia': 35,\n",
       " 'plataforma': 36,\n",
       " 'abierta': 37,\n",
       " 'paredes': 38,\n",
       " 'decoradas': 39,\n",
       " 'cemento': 40,\n",
       " 'jardines': 41,\n",
       " 'llama': 42,\n",
       " 'parada': 43,\n",
       " 'motivo': 44,\n",
       " 'celebracion': 45,\n",
       " 'coloridos': 46,\n",
       " 'altares': 47,\n",
       " 'panteones': 48,\n",
       " 'iluminados': 49,\n",
       " 'calles': 50,\n",
       " 'tapizadas': 51,\n",
       " 'anaranjado': 52,\n",
       " 'flor': 53,\n",
       " 'cempasuchil': 54,\n",
       " 'comida': 55,\n",
       " 'bebida': 56,\n",
       " 'musica': 57,\n",
       " 'calaveras': 58,\n",
       " 'catrinas': 59,\n",
       " 'honrar': 60,\n",
       " 'muerte': 61,\n",
       " 'mexico': 62,\n",
       " 'vacio': 63,\n",
       " 'metropolitana': 64,\n",
       " 'tren': 65,\n",
       " 'urbano': 66,\n",
       " 'ubicada': 67,\n",
       " 'bayamon': 68,\n",
       " 'ciudad': 69,\n",
       " 'zona': 70,\n",
       " 'norte': 71,\n",
       " 'puerto': 72,\n",
       " 'recinto': 73,\n",
       " 'rico': 74,\n",
       " 'solo': 75,\n",
       " 'pasea': 76,\n",
       " 'guardia': 77,\n",
       " 'seguridadel': 78,\n",
       " 'hombre': 79,\n",
       " 'vigila': 80,\n",
       " 'jueves': 81}"
      ]
     },
     "execution_count": 106,
     "metadata": {},
     "output_type": "execute_result"
    }
   ],
   "source": [
    "words"
   ]
  },
  {
   "cell_type": "code",
   "execution_count": 107,
   "id": "72f33297",
   "metadata": {},
   "outputs": [
    {
     "data": {
      "text/plain": [
       "array([-0.00989843, -0.00042538, -0.00471026, -0.00420356, -0.00180718,\n",
       "       -0.00153164,  0.00693447,  0.00412402,  0.00906819,  0.00529623,\n",
       "        0.00420696,  0.00182702,  0.00443745, -0.00036018,  0.00883655,\n",
       "       -0.00770863,  0.00166798,  0.00335965,  0.00925847, -0.00537129,\n",
       "        0.00902595,  0.00478433, -0.0058433 ,  0.00908762, -0.00425854,\n",
       "        0.00708995, -0.00897032, -0.00449596,  0.00550779, -0.00072869,\n",
       "       -0.00756288, -0.00110729, -0.00837127,  0.00538701,  0.00821238,\n",
       "       -0.00164327,  0.006163  , -0.00295249,  0.00411309,  0.00175097,\n",
       "       -0.00868112,  0.00139661, -0.00553832,  0.00687334, -0.00621537,\n",
       "        0.00854195,  0.00012918,  0.00715961,  0.00525432,  0.00980294,\n",
       "        0.00029287,  0.00150274,  0.00199006, -0.0017378 , -0.00260773,\n",
       "        0.00414982,  0.00862947,  0.00736923,  0.00225431,  0.0042636 ,\n",
       "       -0.00120832,  0.00155648, -0.00426202, -0.00674745, -0.00713354,\n",
       "        0.00448055, -0.00651946,  0.00818464, -0.00604145, -0.00079802,\n",
       "       -0.00707129,  0.00736751,  0.00567868,  0.00186454, -0.00112441,\n",
       "       -0.00469559, -0.00652459,  0.00960815, -0.00870375,  0.00487595,\n",
       "        0.00390095,  0.00959053,  0.00259847,  0.00220768,  0.0045155 ,\n",
       "        0.00486493, -0.00928086, -0.00451306,  0.00014045,  0.00057661,\n",
       "        0.00458286, -0.00231521, -0.00196598,  0.0037141 ,  0.00370367,\n",
       "        0.00885047,  0.00888655,  0.00115989,  0.00123622, -0.00986697],\n",
       "      dtype=float32)"
      ]
     },
     "execution_count": 107,
     "metadata": {},
     "output_type": "execute_result"
    }
   ],
   "source": [
    "model.wv['jueves']"
   ]
  },
  {
   "cell_type": "code",
   "execution_count": 108,
   "id": "b54e77b2",
   "metadata": {},
   "outputs": [
    {
     "data": {
      "text/plain": [
       "100"
      ]
     },
     "execution_count": 108,
     "metadata": {},
     "output_type": "execute_result"
    }
   ],
   "source": [
    "len(model.wv['jueves'])"
   ]
  },
  {
   "cell_type": "code",
   "execution_count": 112,
   "id": "79b95432",
   "metadata": {},
   "outputs": [
    {
     "data": {
      "text/plain": [
       "[('pueden', 0.1711413860321045),\n",
       " ('limpia', 0.16393469274044037),\n",
       " ('oficinas', 0.15934854745864868),\n",
       " ('tren', 0.14574943482875824),\n",
       " ('muerte', 0.1311265230178833),\n",
       " ('ancianoses', 0.124524787068367),\n",
       " ('colores', 0.11184968054294586),\n",
       " ('pasajerosentre', 0.10667608678340912),\n",
       " ('formas', 0.08553605526685715),\n",
       " ('ve', 0.08054256439208984)]"
      ]
     },
     "execution_count": 112,
     "metadata": {},
     "output_type": "execute_result"
    }
   ],
   "source": [
    "model.wv.most_similar('plataforma')"
   ]
  },
  {
   "cell_type": "markdown",
   "id": "ea0d590e",
   "metadata": {},
   "source": [
    "### Bag of Words and TF IDF Problems\n",
    "\n",
    "Both BOW and TF IDF approach semantic information is not stored.TF IDF gives importance to uncommon words.\n",
    "There is defintely chance to overfitting"
   ]
  }
 ],
 "metadata": {
  "kernelspec": {
   "display_name": "Python 3",
   "language": "python",
   "name": "python3"
  },
  "language_info": {
   "codemirror_mode": {
    "name": "ipython",
    "version": 3
   },
   "file_extension": ".py",
   "mimetype": "text/x-python",
   "name": "python",
   "nbconvert_exporter": "python",
   "pygments_lexer": "ipython3",
   "version": "3.8.8"
  }
 },
 "nbformat": 4,
 "nbformat_minor": 5
}
